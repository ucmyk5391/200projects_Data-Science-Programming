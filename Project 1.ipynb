{
 "cells": [
  {
   "cell_type": "code",
   "execution_count": 1,
   "metadata": {},
   "outputs": [],
   "source": [
    "import numpy as np"
   ]
  },
  {
   "cell_type": "markdown",
   "metadata": {},
   "source": [
    "# What is this?\n",
    "\n",
    "1. This is an auction making project\n",
    "2. Three components\n",
    "  1. User\n",
    "    1. User gets its proba when `__init__`\n",
    "    2. based on this proba, `show_ad` is decided\n",
    "  2. Bidder\n",
    "    1. Buyer of rights to (try to) show ad to selected user\n",
    "    2. Highest bidder wins\n",
    "      1. Winner gets to show ad to selected user\n",
    "      2. IF user clicks, winner gets $1\n",
    "      3. REGARDLESS of click, winner loses second highest bid\n",
    "      "
   ]
  },
  {
   "cell_type": "markdown",
   "metadata": {},
   "source": [
    "---\n",
    "## User"
   ]
  },
  {
   "cell_type": "code",
   "execution_count": 150,
   "metadata": {},
   "outputs": [],
   "source": [
    "class User:\n",
    "    def __init__(self):\n",
    "        self.__p = self.__probability = np.random.random()\n",
    "    \n",
    "    def show_ad(self):\n",
    "        return np.random.choice([True, False], \n",
    "                                p=(self.__p, 1 - self.__p))\n",
    "    \n",
    "    def show_proba(self):\n",
    "        # custom method\n",
    "        return self.__p\n",
    "       "
   ]
  },
  {
   "cell_type": "markdown",
   "metadata": {},
   "source": [
    "---\n",
    "## Auction"
   ]
  },
  {
   "cell_type": "code",
   "execution_count": null,
   "metadata": {},
   "outputs": [],
   "source": [
    "# enumerate: create index (default: starting from 0)"
   ]
  },
  {
   "cell_type": "code",
   "execution_count": 117,
   "metadata": {},
   "outputs": [],
   "source": [
    "class Auction:\n",
    "    def __init__(self, users: list, bidders: list):\n",
    "        self.users = users\n",
    "        self.bidders = bidders\n",
    "        self.uids = {user: uid for uid, user in enumerate(users)}\n",
    "        self.balances = {b: b.balance for b in bidders}\n",
    "        \n",
    "    def execute_round(self):\n",
    "        # Select one user at random\n",
    "        user = np.random.choice(self.users)\n",
    "        # Then query user's id from `self.uids` dictionary\n",
    "        uid = self.uids[user]\n",
    "        \n",
    "        # Bidders make bids based on bid\n",
    "        bids = [bidder.bid(uid) for bidder in self.bidders]\n",
    "        \n",
    "        # Find maximum bidding\n",
    "        max_bid = max(bids)\n",
    "        \n",
    "        # Find maximum bidders (there can be more than 1)\n",
    "        max_bidder_ids = [n for n, b in enumerate(bids) if b == max_bid]\n",
    "        winner = np.random.choice(max_bidder_ids)\n",
    "        \n",
    "        # Get second highest price\n",
    "        # sorted: lowest -> highest by default\n",
    "        winning_price = sorted(bids)[-2]\n",
    "        \n",
    "        for n, bidder in enumerate(self.bidders):\n",
    "            if n == winner:\n",
    "                bidder.notify(auction_winner=True,\n",
    "                              price=winning_price,\n",
    "                              clicked=user.show_ad())\n",
    "                \n",
    "                # Update bidders balance\n",
    "                # Balance is changed to winning bidder only\n",
    "                self.balances[bidder] = bidder.balance\n",
    "            \n",
    "            else:\n",
    "                bidder.notify(auction_winner=False,\n",
    "                              price=winning_price,\n",
    "                              clicked=None)    \n",
    "    \n",
    "    def plot_history(self):\n",
    "        # Optional credit\n",
    "        pass"
   ]
  },
  {
   "cell_type": "markdown",
   "metadata": {},
   "source": [
    "---\n",
    "\n",
    "## Bidder"
   ]
  },
  {
   "cell_type": "code",
   "execution_count": 118,
   "metadata": {},
   "outputs": [],
   "source": [
    "class Bidder:\n",
    "    def __init__(self, num_users, num_rounds):\n",
    "        self.num_users = num_users\n",
    "        self.num_rounds = num_rounds\n",
    "        self.balance = 0\n",
    "        \n",
    "    def bid(self, user_id):\n",
    "        # This is the most important part\n",
    "        # Bidder must learn user and predict probability\n",
    "        return round(np.random.random(), 3)\n",
    "    \n",
    "    def notify(self, \n",
    "               auction_winner: bool, \n",
    "               price: float, \n",
    "               clicked: bool):\n",
    "        if auction_winner:\n",
    "            if clicked:\n",
    "                self.balance += 1\n",
    "                \n",
    "            self.balance -= price\n",
    "        \n",
    "        ## Even if they lose, they get to know price (second higest price)\n",
    "        \n",
    "    \n",
    "    def is_disq(self):\n",
    "        # custom method to check if bidder is disqualified\n",
    "        return self.balance < -1000"
   ]
  },
  {
   "cell_type": "code",
   "execution_count": 127,
   "metadata": {},
   "outputs": [],
   "source": [
    "## End of 80% credit\n",
    "b0, b1, b2 = Bidder(1,10), Bidder(1,10), Bidder(1,10)\n",
    "auction = Auction([User()],[b0, b1, b2])\n",
    "auction.execute_round()\n",
    "bal = auction.balances"
   ]
  },
  {
   "cell_type": "code",
   "execution_count": 128,
   "metadata": {},
   "outputs": [],
   "source": [
    "## Testing bidder's smartness"
   ]
  },
  {
   "cell_type": "code",
   "execution_count": 135,
   "metadata": {},
   "outputs": [],
   "source": [
    "winner_cnt = defaultdict(int)\n",
    "n_auctions = 1000\n",
    "n_rounds = 100\n",
    "n_bidder = 5"
   ]
  },
  {
   "cell_type": "code",
   "execution_count": 133,
   "metadata": {},
   "outputs": [],
   "source": [
    "for _ in range(n_auctions):\n",
    "    users = [User() for _ in range(np.random.randint(2, 11))]\n",
    "    auc = Auction(users, [*(Bidder(len(users), n_rounds) for _ in range(n_bidder))])\n",
    "    for i in range(n_rounds):\n",
    "        auc.execute_round()\n",
    "    winner_cnt[np.argmax(list(auc.balances.values()))] += 1"
   ]
  },
  {
   "cell_type": "code",
   "execution_count": 134,
   "metadata": {},
   "outputs": [
    {
     "data": {
      "text/plain": [
       "{0: 196, 1: 184, 2: 194, 3: 214, 4: 212}"
      ]
     },
     "execution_count": 134,
     "metadata": {},
     "output_type": "execute_result"
    }
   ],
   "source": [
    "{k: winner_cnt[k] for k in sorted(winner_cnt)}"
   ]
  },
  {
   "cell_type": "markdown",
   "metadata": {},
   "source": [
    "---\n",
    "## KingBidder\n",
    "\n",
    "Optional Credit"
   ]
  },
  {
   "cell_type": "code",
   "execution_count": 196,
   "metadata": {},
   "outputs": [],
   "source": [
    "from collections import defaultdict\n",
    "\n",
    "class KingBidder:\n",
    "    def __init__(self, num_users, num_rounds):\n",
    "        self.num_users = num_users\n",
    "        self.num_rounds = num_rounds\n",
    "        self.balance = 0\n",
    "        self.data = defaultdict(list)\n",
    "        self.cur_user = None\n",
    "        \n",
    "    def bid(self, user_id):\n",
    "        # This is the most important part\n",
    "        # Bidder must learn user and predict probability\n",
    "        self.cur_user = user_id\n",
    "        proba = 0.5\n",
    "        if (data:= self.data[user_id]):\n",
    "            proba = sum(data) / len(data)\n",
    "        return 100 * np.random.random() * np.random.choice([True, False], \n",
    "                                                           p=(proba, 1-proba))\n",
    "    \n",
    "    def notify(self, \n",
    "               auction_winner: bool, \n",
    "               price: float, \n",
    "               clicked: bool):\n",
    "        if auction_winner:\n",
    "            if clicked:\n",
    "                self.balance += 1\n",
    "            self.data[self.cur_user].append(clicked)\n",
    "            self.balance -= price\n",
    "        \n",
    "    \n",
    "    def is_disq(self):\n",
    "        return self.balance < -1000"
   ]
  },
  {
   "cell_type": "code",
   "execution_count": 136,
   "metadata": {},
   "outputs": [],
   "source": [
    "winner_cnt = defaultdict(int)\n",
    "n_auctions = 1000\n",
    "n_rounds = 100\n",
    "n_bidder = 5"
   ]
  },
  {
   "cell_type": "code",
   "execution_count": null,
   "metadata": {},
   "outputs": [],
   "source": [
    "for _ in range(n_auctions):\n",
    "    users = [User() for _ in range(np.random.randint(2, 11))]\n",
    "    auc = Auction(users, [KingBidder(len(users), n_rounds), \n",
    "                          *(Bidder(len(users), n_rounds) for _ in range(n_bidder-1))])\n",
    "    for i in range(n_rounds):\n",
    "        auc.execute_round()\n",
    "    winner_cnt[np.argmax(list(auc.balances.values()))] += 1"
   ]
  },
  {
   "cell_type": "code",
   "execution_count": 138,
   "metadata": {},
   "outputs": [
    {
     "data": {
      "text/plain": [
       "{0: 249, 1: 186, 2: 197, 3: 185, 4: 183}"
      ]
     },
     "execution_count": 138,
     "metadata": {},
     "output_type": "execute_result"
    }
   ],
   "source": [
    "{k: winner_cnt[k] for k in sorted(winner_cnt)}"
   ]
  },
  {
   "cell_type": "code",
   "execution_count": 142,
   "metadata": {},
   "outputs": [
    {
     "data": {
      "text/plain": [
       "defaultdict(list,\n",
       "            {3: [True, False, False, True, False, True, True],\n",
       "             1: [True, False, True, False, False, False, False, False],\n",
       "             2: [False],\n",
       "             0: [False],\n",
       "             4: [True,\n",
       "              False,\n",
       "              True,\n",
       "              True,\n",
       "              False,\n",
       "              True,\n",
       "              False,\n",
       "              True,\n",
       "              False,\n",
       "              False,\n",
       "              False],\n",
       "             5: [False]})"
      ]
     },
     "execution_count": 142,
     "metadata": {},
     "output_type": "execute_result"
    }
   ],
   "source": [
    "auc.bidders[0].data"
   ]
  },
  {
   "cell_type": "code",
   "execution_count": 144,
   "metadata": {},
   "outputs": [
    {
     "name": "stdout",
     "output_type": "stream",
     "text": [
      "0.5056451160807595\n",
      "0.590660304734246\n",
      "0.1254374551804669\n",
      "0.3676688734706821\n",
      "0.6353125323356017\n",
      "0.15487911947757949\n"
     ]
    }
   ],
   "source": [
    "for u in auc.users:\n",
    "    print(u.show_proba())"
   ]
  },
  {
   "cell_type": "code",
   "execution_count": null,
   "metadata": {},
   "outputs": [],
   "source": []
  }
 ],
 "metadata": {
  "kernelspec": {
   "display_name": "Python 3",
   "language": "python",
   "name": "python3"
  },
  "language_info": {
   "codemirror_mode": {
    "name": "ipython",
    "version": 3
   },
   "file_extension": ".py",
   "mimetype": "text/x-python",
   "name": "python",
   "nbconvert_exporter": "python",
   "pygments_lexer": "ipython3",
   "version": "3.8.5"
  }
 },
 "nbformat": 4,
 "nbformat_minor": 4
}
